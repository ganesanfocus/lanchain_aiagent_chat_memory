{
 "cells": [
  {
   "cell_type": "code",
   "execution_count": 2,
   "id": "507a4aa7",
   "metadata": {},
   "outputs": [
    {
     "data": {
      "text/plain": [
       "True"
      ]
     },
     "execution_count": 2,
     "metadata": {},
     "output_type": "execute_result"
    }
   ],
   "source": [
    "import os\n",
    "from  dotenv import load_dotenv\n",
    "load_dotenv()"
   ]
  },
  {
   "cell_type": "code",
   "execution_count": 3,
   "id": "4b648a21",
   "metadata": {},
   "outputs": [
    {
     "name": "stderr",
     "output_type": "stream",
     "text": [
      "C:\\Users\\Admin\\AppData\\Local\\Temp\\ipykernel_16260\\878435125.py:2: LangChainDeprecationWarning: The class `OpenAI` was deprecated in LangChain 0.0.10 and will be removed in 1.0. An updated version of the class exists in the :class:`~langchain-openai package and should be used instead. To use it run `pip install -U :class:`~langchain-openai` and import as `from :class:`~langchain_openai import OpenAI``.\n",
      "  llm = OpenAI(api_key = os.getenv(\"OPENAI_API_KEY\"),  temperature =  0.6)\n",
      "C:\\Users\\Admin\\AppData\\Local\\Temp\\ipykernel_16260\\878435125.py:3: LangChainDeprecationWarning: The method `BaseLLM.__call__` was deprecated in langchain-core 0.1.7 and will be removed in 1.0. Use :meth:`~invoke` instead.\n",
      "  name  = llm(\"I want to open a restaurant for Italian food. Suggest a fench name for this\")\n"
     ]
    },
    {
     "name": "stdout",
     "output_type": "stream",
     "text": [
      "\n",
      "\n",
      "\"La Trattoria di Roma\" \n"
     ]
    }
   ],
   "source": [
    "from langchain.llms import OpenAI\n",
    "llm = OpenAI(api_key = os.getenv(\"OPENAI_API_KEY\"),  temperature =  0.6)\n",
    "name  = llm(\"I want to open a restaurant for Italian food. Suggest a fench name for this\")\n",
    "print(name)"
   ]
  },
  {
   "cell_type": "code",
   "execution_count": 4,
   "id": "63f5d942",
   "metadata": {},
   "outputs": [
    {
     "data": {
      "text/plain": [
       "'I want to open a restaurant for  Italian food. Suggest a fency name for this'"
      ]
     },
     "execution_count": 4,
     "metadata": {},
     "output_type": "execute_result"
    }
   ],
   "source": [
    "from langchain.prompts import PromptTemplate\n",
    "\n",
    "prompt_template_name = PromptTemplate(\n",
    "    input_variables = ['cuisine'],\n",
    "    template = \"I want to open a restaurant for  {cuisine} food. Suggest a fency name for this\"\n",
    ")\n",
    "\n",
    "prompt_template_name.format(cuisine=\"Italian\")"
   ]
  },
  {
   "cell_type": "code",
   "execution_count": 5,
   "id": "2986e02f",
   "metadata": {},
   "outputs": [
    {
     "name": "stderr",
     "output_type": "stream",
     "text": [
      "C:\\Users\\Admin\\AppData\\Local\\Temp\\ipykernel_16260\\723744833.py:3: LangChainDeprecationWarning: The class `LLMChain` was deprecated in LangChain 0.1.17 and will be removed in 1.0. Use :meth:`~RunnableSequence, e.g., `prompt | llm`` instead.\n",
      "  chain = LLMChain(llm=llm, prompt=prompt_template_name)\n",
      "C:\\Users\\Admin\\AppData\\Local\\Temp\\ipykernel_16260\\723744833.py:4: LangChainDeprecationWarning: The method `Chain.run` was deprecated in langchain 0.1.0 and will be removed in 1.0. Use :meth:`~invoke` instead.\n",
      "  chain.run(\"Mexican\")\n"
     ]
    },
    {
     "data": {
      "text/plain": [
       "'\\n\\n\"El Sabroso Cocina Mexicana\"'"
      ]
     },
     "execution_count": 5,
     "metadata": {},
     "output_type": "execute_result"
    }
   ],
   "source": [
    "from langchain.chains import LLMChain\n",
    "\n",
    "chain = LLMChain(llm=llm, prompt=prompt_template_name)\n",
    "chain.run(\"Mexican\")"
   ]
  },
  {
   "cell_type": "code",
   "execution_count": null,
   "id": "8ff86771",
   "metadata": {},
   "outputs": [],
   "source": [
    "llm = OpenAI(api_key = os.getenv(\"OPENAI_API_KEY\"),  temperature =  0.6)\n",
    "prompt_template_name = PromptTemplate(input_variables = ['cuisine'],\n",
    "                                      template = \"I want to open a restaurant for {cuisine} food. Suggests a fency name for this.\")\n",
    "\n",
    "name_chain = LLMChain(llm=llm, prompt=prompt_template_name)\n",
    "\n",
    "prompt_template_items = PromptTemplate(\n",
    "    input_varialbes  = ['restaurant_name'], \n",
    "    template = \"\"\" Suggest some menu items for  {restaurant_name}. Resturn it as a comma separated list\"\"\"\n",
    ")\n",
    "\n",
    "food_items_chain = LLMChain(llm=llm, prompt=prompt_template_items)\n",
    "\n"
   ]
  },
  {
   "cell_type": "code",
   "execution_count": 7,
   "id": "f9b82ae3",
   "metadata": {},
   "outputs": [
    {
     "name": "stdout",
     "output_type": "stream",
     "text": [
      "\n",
      "\n",
      "1. Spicy Chicken Curry\n",
      "2. Vegetable Biryani\n",
      "3. Tandoori Chicken\n",
      "4. Lamb Vindaloo\n",
      "5. Samosas\n",
      "6. Garlic Naan\n",
      "7. Chana Masala\n",
      "8. Aloo Gobi\n",
      "9. Palak Paneer\n",
      "10. Mango Lassi\n",
      "\n",
      "\"Spice Palace\" menu items: Spicy Chicken Curry, Vegetable Biryani, Tandoori Chicken, Lamb Vindaloo, Samosas, Garlic Naan, Chana Masala, Aloo Gobi, Palak Paneer, Mango Lassi\n"
     ]
    }
   ],
   "source": [
    "from langchain.chains import SimpleSequentialChain\n",
    "\n",
    "chain = SimpleSequentialChain(chains = [name_chain, food_items_chain])\n",
    "response = chain.run(\"Indian\")\n",
    "print(response)\n"
   ]
  },
  {
   "cell_type": "code",
   "execution_count": 8,
   "id": "a6029f60",
   "metadata": {},
   "outputs": [
    {
     "name": "stdout",
     "output_type": "stream",
     "text": [
      "\n",
      "\n",
      "1. Chips and Salsa\n",
      "2. Quesadillas\n",
      "3. Tacos (hard or soft shell)\n",
      "4. Burritos\n",
      "5. Enchiladas\n",
      "6. Fajitas\n",
      "7. Chimichangas\n",
      "8. Carne Asada\n",
      "9. Carnitas\n",
      "10. Chile Relleno\n",
      "11. Tamales\n",
      "12. Nachos\n",
      "13. Flautas\n",
      "14. Mexican Street Corn\n",
      "15. Guacamole\n",
      "16. Ceviche\n",
      "17. Empanadas\n",
      "18. Sopes\n",
      "19. Churros\n",
      "20. Tres Leches Cake\n"
     ]
    }
   ],
   "source": [
    "from langchain.chains import SimpleSequentialChain\n",
    "\n",
    "chain = SimpleSequentialChain(chains = [name_chain, food_items_chain])\n",
    "response = chain.run(\"Mexican\")\n",
    "print(response)"
   ]
  },
  {
   "cell_type": "code",
   "execution_count": 12,
   "id": "3104b742",
   "metadata": {},
   "outputs": [],
   "source": [
    "# =============== Chain 1 For Restaurant Name ===============\n",
    "llm = OpenAI(api_key = os.getenv(\"OPENAI_API_KEY\"),  temperature =  0.7)\n",
    "prompt_template_name = PromptTemplate(input_variables = ['cuisine'],\n",
    "                                      template = \"I want to open a restaurant for {cuisine} food. Suggests a fency name for this.\")\n",
    "\n",
    "name_chain = LLMChain(llm=llm, prompt=prompt_template_name, output_key=\"restaurant_name\")\n",
    "\n",
    "# =============== Chain 2 For Restaurant Name ===============\n",
    "\n",
    "prompt_template_items = PromptTemplate(\n",
    "    input_varialbes  = ['restaurant_name'], \n",
    "    template = \"\"\" Suggest some menu items for  {restaurant_name}. Resturn it as a comma separated list\"\"\"\n",
    ")\n",
    "\n",
    "food_items_chain = LLMChain(llm=llm, prompt=prompt_template_items, output_key=\"menu_items\")\n"
   ]
  },
  {
   "cell_type": "code",
   "execution_count": 13,
   "id": "aa8008c2",
   "metadata": {},
   "outputs": [
    {
     "name": "stderr",
     "output_type": "stream",
     "text": [
      "C:\\Users\\Admin\\AppData\\Local\\Temp\\ipykernel_16260\\1799246590.py:8: LangChainDeprecationWarning: The method `Chain.__call__` was deprecated in langchain 0.1.0 and will be removed in 1.0. Use :meth:`~invoke` instead.\n",
      "  chain({\"cuisine\": \"Arabic\"})\n"
     ]
    },
    {
     "data": {
      "text/plain": [
       "{'cuisine': 'Arabic',\n",
       " 'restaurant_name': '\\n\\n\"Al-Arabia Fine Dining\"',\n",
       " 'menu_items': '\\n\\n1. Hummus Platter, \\n2. Falafel Skewers, \\n3. Lamb Kebabs, \\n4. Chicken Shawarma, \\n5. Shish Tawook, \\n6. Baba Ghanoush, \\n7. Grape Leaves, \\n8. Tabouleh Salad, \\n9. Fattoush Salad, \\n10. Kibbeh, \\n11. Spinach Fatayer, \\n12. Mixed Grill Platter, \\n13. Lamb Mansaf, \\n14. Chicken Machboos, \\n15. Moussaka, \\n16. Baklava, \\n17. Basbousa, \\n18. Kunafa.'}"
      ]
     },
     "execution_count": 13,
     "metadata": {},
     "output_type": "execute_result"
    }
   ],
   "source": [
    "from langchain.chains import SequentialChain\n",
    "chain = SequentialChain(\n",
    "    chains = [name_chain, food_items_chain],\n",
    "    input_variables = [\"cuisine\"],\n",
    "    output_variables = [\"restaurant_name\", \"menu_items\"]\n",
    ")\n",
    "\n",
    "chain({\"cuisine\": \"Arabic\"})"
   ]
  }
 ],
 "metadata": {
  "kernelspec": {
   "display_name": "venv",
   "language": "python",
   "name": "python3"
  },
  "language_info": {
   "codemirror_mode": {
    "name": "ipython",
    "version": 3
   },
   "file_extension": ".py",
   "mimetype": "text/x-python",
   "name": "python",
   "nbconvert_exporter": "python",
   "pygments_lexer": "ipython3",
   "version": "3.12.8"
  }
 },
 "nbformat": 4,
 "nbformat_minor": 5
}
