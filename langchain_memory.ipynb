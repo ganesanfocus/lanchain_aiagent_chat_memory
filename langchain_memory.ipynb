{
 "cells": [
  {
   "cell_type": "code",
   "execution_count": 1,
   "id": "76007d32",
   "metadata": {},
   "outputs": [
    {
     "data": {
      "text/plain": [
       "True"
      ]
     },
     "execution_count": 1,
     "metadata": {},
     "output_type": "execute_result"
    }
   ],
   "source": [
    "import os\n",
    "from dotenv import load_dotenv\n",
    "\n",
    "load_dotenv()"
   ]
  },
  {
   "cell_type": "code",
   "execution_count": 3,
   "id": "26d1fef8",
   "metadata": {},
   "outputs": [],
   "source": [
    "# Now import LangChain\n",
    "from langchain.agents import AgentType, initialize_agent, load_tools\n",
    "from langchain_openai import ChatOpenAI\n"
   ]
  },
  {
   "cell_type": "code",
   "execution_count": 4,
   "id": "0a1d5dc3",
   "metadata": {},
   "outputs": [],
   "source": [
    "llm = ChatOpenAI(\n",
    "    model=\"gpt-4o-mini\",\n",
    "    temperature=0,\n",
    "    max_tokens=500,\n",
    "    api_key=os.getenv(\"OPENAI_API_KEY\"),\n",
    ")"
   ]
  },
  {
   "cell_type": "code",
   "execution_count": 5,
   "id": "881e751b",
   "metadata": {},
   "outputs": [],
   "source": [
    "\n",
    "from langchain.prompts import PromptTemplate\n",
    "prompt_template_name = PromptTemplate(\n",
    "    input_variables = ['cuisine'],\n",
    "    template = \"I want to open a restaurant for  {cuisine} food. Suggest a fency name for this\"\n",
    ")"
   ]
  },
  {
   "cell_type": "code",
   "execution_count": 6,
   "id": "f30e7e80",
   "metadata": {},
   "outputs": [
    {
     "name": "stderr",
     "output_type": "stream",
     "text": [
      "C:\\Users\\Admin\\AppData\\Local\\Temp\\ipykernel_1292\\3258687565.py:5: LangChainDeprecationWarning: Please see the migration guide at: https://python.langchain.com/docs/versions/migrating_memory/\n",
      "  memory  = ConversationBufferMemory()\n",
      "C:\\Users\\Admin\\AppData\\Local\\Temp\\ipykernel_1292\\3258687565.py:12: LangChainDeprecationWarning: The class `LLMChain` was deprecated in LangChain 0.1.17 and will be removed in 1.0. Use :meth:`~RunnableSequence, e.g., `prompt | llm`` instead.\n",
      "  chain = LLMChain(llm=llm, prompt=prompt_template_name, memory=memory)\n",
      "C:\\Users\\Admin\\AppData\\Local\\Temp\\ipykernel_1292\\3258687565.py:13: LangChainDeprecationWarning: The method `Chain.run` was deprecated in langchain 0.1.0 and will be removed in 1.0. Use :meth:`~invoke` instead.\n",
      "  name = chain.run(\"Mexican\")\n"
     ]
    },
    {
     "name": "stdout",
     "output_type": "stream",
     "text": [
      "Here are some fancy name suggestions for your Mexican restaurant:\n",
      "\n",
      "1. **Casa de Sabor**\n",
      "2. **El Jardín de Sabores**\n",
      "3. **La Mesa Elegante**\n",
      "4. **Cielo Mexicano**\n",
      "5. **Sazón y Estilo**\n",
      "6. **Tierra de Tacos**\n",
      "7. **Ritmo y Sazón**\n",
      "8. **La Cocina del Sol**\n",
      "9. **Sabores del Corazón**\n",
      "10. **El Encanto Mexicano**\n",
      "\n",
      "Feel free to mix and match or modify these names to find the perfect fit for your restaurant!\n"
     ]
    }
   ],
   "source": [
    "from langchain.chains import LLMChain\n",
    "\n",
    "from langchain.memory import ConversationBufferMemory\n",
    "\n",
    "memory  = ConversationBufferMemory()\n",
    "\n",
    "\n",
    "\n",
    "\n",
    "prompt_template_name.format(cuisine=\"Italian\")\n",
    "\n",
    "chain = LLMChain(llm=llm, prompt=prompt_template_name, memory=memory)\n",
    "name = chain.run(\"Mexican\")\n",
    "\n",
    "print(name)"
   ]
  },
  {
   "cell_type": "code",
   "execution_count": 8,
   "id": "726eae89",
   "metadata": {},
   "outputs": [
    {
     "name": "stdout",
     "output_type": "stream",
     "text": [
      "Human: Mexican\n",
      "AI: Here are some fancy name suggestions for your Mexican restaurant:\n",
      "\n",
      "1. **Casa de Sabor**\n",
      "2. **El Jardín de Sabores**\n",
      "3. **La Mesa Elegante**\n",
      "4. **Cielo Mexicano**\n",
      "5. **Sazón y Estilo**\n",
      "6. **Tierra de Tacos**\n",
      "7. **Ritmo y Sazón**\n",
      "8. **La Cocina del Sol**\n",
      "9. **Sabores del Corazón**\n",
      "10. **El Encanto Mexicano**\n",
      "\n",
      "Feel free to mix and match or modify these names to find the perfect fit for your restaurant!\n"
     ]
    }
   ],
   "source": [
    "print(chain.memory.buffer)"
   ]
  },
  {
   "cell_type": "code",
   "execution_count": 10,
   "id": "8d575af3",
   "metadata": {},
   "outputs": [
    {
     "name": "stdout",
     "output_type": "stream",
     "text": [
      "The following is a friendly conversation between a human and an AI. The AI is talkative and provides lots of specific details from its context. If the AI does not know the answer to a question, it truthfully says it does not know.\n",
      "\n",
      "Current conversation:\n",
      "{history}\n",
      "Human: {input}\n",
      "AI:\n"
     ]
    }
   ],
   "source": [
    "from langchain.chains import ConversationChain\n",
    "\n",
    "convo = ConversationChain(llm=llm)\n",
    "print(convo.prompt.template)"
   ]
  },
  {
   "cell_type": "code",
   "execution_count": 11,
   "id": "dec56e60",
   "metadata": {},
   "outputs": [
    {
     "data": {
      "text/plain": [
       "\"The first Cricket World Cup was held in 1975, and it was won by the West Indies. They defeated Australia in the final, which took place at Lord's in London on June 21, 1975. The West Indies scored 291 runs, and Australia managed 274 runs, giving the West Indies a 17-run victory. This tournament marked the beginning of the Cricket World Cup, which has since become one of the most prestigious events in the sport. Would you like to know more about the history of the World Cup or any specific players from that era?\""
      ]
     },
     "execution_count": 11,
     "metadata": {},
     "output_type": "execute_result"
    }
   ],
   "source": [
    "convo.run(\"Who won the first cricket world cup?\")"
   ]
  },
  {
   "cell_type": "code",
   "execution_count": 12,
   "id": "3755b1b1",
   "metadata": {},
   "outputs": [
    {
     "data": {
      "text/plain": [
       "\"5 + 5 equals 10. It's a simple arithmetic problem! If you have more math questions or if you're curious about different mathematical concepts, feel free to ask!\""
      ]
     },
     "execution_count": 12,
     "metadata": {},
     "output_type": "execute_result"
    }
   ],
   "source": [
    "convo.run(\"What is 5+5?\")"
   ]
  },
  {
   "cell_type": "code",
   "execution_count": 13,
   "id": "ca3f5ecd",
   "metadata": {},
   "outputs": [
    {
     "data": {
      "text/plain": [
       "\"The captain of the West Indies team that won the first Cricket World Cup in 1975 was Clive Lloyd. He played a crucial role in the final, scoring 102 runs, which was instrumental in leading his team to victory over Australia. Clive Lloyd is remembered as one of the greats of West Indies cricket and had a significant impact on the game during his career. If you're interested, I can share more about his career or other notable players from that World Cup!\""
      ]
     },
     "execution_count": 13,
     "metadata": {},
     "output_type": "execute_result"
    }
   ],
   "source": [
    "convo.run(\"Who was the captain of the winning team?\")"
   ]
  },
  {
   "cell_type": "code",
   "execution_count": 14,
   "id": "01f146c5",
   "metadata": {},
   "outputs": [
    {
     "name": "stdout",
     "output_type": "stream",
     "text": [
      "Human: Who won the first cricket world cup?\n",
      "AI: The first Cricket World Cup was held in 1975, and it was won by the West Indies. They defeated Australia in the final, which took place at Lord's in London on June 21, 1975. The West Indies scored 291 runs, and Australia managed 274 runs, giving the West Indies a 17-run victory. This tournament marked the beginning of the Cricket World Cup, which has since become one of the most prestigious events in the sport. Would you like to know more about the history of the World Cup or any specific players from that era?\n",
      "Human: What is 5+5?\n",
      "AI: 5 + 5 equals 10. It's a simple arithmetic problem! If you have more math questions or if you're curious about different mathematical concepts, feel free to ask!\n",
      "Human: Who was the captain of the winning team?\n",
      "AI: The captain of the West Indies team that won the first Cricket World Cup in 1975 was Clive Lloyd. He played a crucial role in the final, scoring 102 runs, which was instrumental in leading his team to victory over Australia. Clive Lloyd is remembered as one of the greats of West Indies cricket and had a significant impact on the game during his career. If you're interested, I can share more about his career or other notable players from that World Cup!\n"
     ]
    }
   ],
   "source": [
    "print(convo.memory.buffer)"
   ]
  },
  {
   "cell_type": "code",
   "execution_count": 17,
   "id": "cbf1d63b",
   "metadata": {},
   "outputs": [
    {
     "data": {
      "text/plain": [
       "\"The first Cricket World Cup was held in 1975, and it was won by the West Indies. They defeated Australia in the final, which took place at Lord's in London on June 21, 1975. The West Indies scored 291 runs, and Australia managed 274 runs, giving the West Indies a 17-run victory. This tournament marked the beginning of what would become one of the most prestigious events in international cricket! Would you like to know more about the history of the Cricket World Cup or any specific teams?\""
      ]
     },
     "execution_count": 17,
     "metadata": {},
     "output_type": "execute_result"
    }
   ],
   "source": [
    "from langchain.memory import ConversationBufferWindowMemory\n",
    "memory = ConversationBufferWindowMemory(k=1)\n",
    "\n",
    "convo = ConversationChain(\n",
    "    llm=llm, memory = memory\n",
    ")\n",
    "\n",
    "convo.run(\"Who won the first crikcet world cup?\")"
   ]
  },
  {
   "cell_type": "code",
   "execution_count": 18,
   "id": "76d8e0e8",
   "metadata": {},
   "outputs": [
    {
     "data": {
      "text/plain": [
       "\"5 + 5 equals 10! It's a simple addition problem, but if you're interested in exploring more complex math concepts or any other topics, feel free to ask!\""
      ]
     },
     "execution_count": 18,
     "metadata": {},
     "output_type": "execute_result"
    }
   ],
   "source": [
    "convo.run(\"What is 5+5?\")"
   ]
  },
  {
   "cell_type": "code",
   "execution_count": 19,
   "id": "287b16b1",
   "metadata": {},
   "outputs": [
    {
     "data": {
      "text/plain": [
       "\"I don't have specific information about which event or sport you're referring to. There are many winning teams across various sports and competitions. If you can provide more context, like the sport or the event, I'd be happy to help you find out who the captain was!\""
      ]
     },
     "execution_count": 19,
     "metadata": {},
     "output_type": "execute_result"
    }
   ],
   "source": [
    "convo.run(\"Who was the captain of the winning team?\")"
   ]
  }
 ],
 "metadata": {
  "kernelspec": {
   "display_name": "venv",
   "language": "python",
   "name": "python3"
  },
  "language_info": {
   "codemirror_mode": {
    "name": "ipython",
    "version": 3
   },
   "file_extension": ".py",
   "mimetype": "text/x-python",
   "name": "python",
   "nbconvert_exporter": "python",
   "pygments_lexer": "ipython3",
   "version": "3.12.8"
  }
 },
 "nbformat": 4,
 "nbformat_minor": 5
}
